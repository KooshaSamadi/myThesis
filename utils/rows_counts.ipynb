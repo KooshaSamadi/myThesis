{
 "cells": [
  {
   "cell_type": "code",
   "execution_count": null,
   "id": "c391c54f",
   "metadata": {},
   "outputs": [
    {
     "name": "stdout",
     "output_type": "stream",
     "text": [
      "Counting rows in all CSVs in ..\\data\\raw...\n",
      "\n",
      "\n",
      "Grand total rows across all CSVs: 19,797,842\n",
      "\n"
     ]
    }
   ],
   "source": [
    "from pathlib import Path\n",
    "import csv\n",
    "\n",
    "DATA_ROOT = Path(\"../data/raw\")         \n",
    "\n",
    "total_rows = 0\n",
    "file_rows  = {}\n",
    "print(f\"Counting rows in all CSVs in {DATA_ROOT}...\\n\")\n",
    "for csv_path in DATA_ROOT.rglob(\"*.csv\"):\n",
    "    with csv_path.open(newline=\"\") as f:\n",
    "        reader = csv.reader(f)\n",
    "        row_count = sum(1 for _ in reader) \n",
    "    file_rows[csv_path] = row_count\n",
    "    total_rows += row_count\n",
    "\n",
    "print(f\"\\nGrand total rows across all CSVs: {total_rows:,}\\n\")\n"
   ]
  },
  {
   "cell_type": "code",
   "execution_count": null,
   "id": "4cf1f8d1",
   "metadata": {},
   "outputs": [
    {
     "name": "stdout",
     "output_type": "stream",
     "text": [
      "Top-level summary (folder → rows):\n",
      "  commodities               573,159\n",
      "  dax                       341,750\n",
      "  forex                     627,009\n",
      "  indices                   372,543\n",
      "  japan-investment-trust    41,589\n",
      "  japanstockes              11,554,859\n",
      "  s&p500                    6,286,933\n"
     ]
    }
   ],
   "source": [
    "\n",
    "print(\"Top-level summary (folder → rows):\")\n",
    "folder_totals = {}\n",
    "for path, rows in file_rows.items():\n",
    "    top_folder = path.relative_to(DATA_ROOT).parts[0]  # e.g. 'commodities'\n",
    "    folder_totals[top_folder] = folder_totals.get(top_folder, 0) + rows\n",
    "\n",
    "for folder, rows in sorted(folder_totals.items()):\n",
    "    print(f\"  {folder:<25} {rows:,}\")\n",
    "\n",
    "#uncomment to list every file\n",
    "#for path, rows in sorted(file_rows.items()):\n",
    "#    print(f\"{path}: {rows:,}\")\n"
   ]
  },
  {
   "cell_type": "code",
   "execution_count": null,
   "id": "5393d4cc",
   "metadata": {},
   "outputs": [
    {
     "name": "stdout",
     "output_type": "stream",
     "text": [
      "\n",
      "Grand total rows across all CSVs: 22,313,454\n",
      "\n",
      "commodities/\n",
      "  └─ 1D    : 190,202\n",
      "  └─ 1h    : 382,957\n",
      "\n",
      "dax/\n",
      "  └─ 1D    : 153,885\n",
      "  └─ 1h    : 187,865\n",
      "\n",
      "forex/\n",
      "  └─ 1D    : 142,085\n",
      "  └─ 1h    : 484,924\n",
      "\n",
      "france/\n",
      "  └─ 1D    : 171,923\n",
      "  └─ 1h    : 191,332\n",
      "\n",
      "indices/\n",
      "  └─ 1D    : 226,707\n",
      "  └─ 1h    : 145,836\n",
      "\n",
      "japan-investment-trust/\n",
      "  └─ 1D    : 16,090\n",
      "  └─ 1h    : 25,499\n",
      "\n",
      "japanstockes/\n",
      "  └─ 1D    : 5,418,373\n",
      "  └─ 1h    : 6,136,486\n",
      "\n",
      "s&p500/\n",
      "  └─ 1D    : 3,780,318\n",
      "  └─ 1h    : 2,506,615\n",
      "\n",
      "uk/\n",
      "  └─ 1D    : 985,740\n",
      "  └─ 1h    : 1,166,617\n",
      "\n"
     ]
    }
   ],
   "source": [
    "from pathlib import Path\n",
    "import csv\n",
    "from collections import defaultdict\n",
    "\n",
    "DATA_ROOT = Path(\"../data/raw\")     \n",
    "\n",
    "grand_total = 0\n",
    "summary = defaultdict(lambda: defaultdict(int))\n",
    "\n",
    "for csv_path in DATA_ROOT.rglob(\"*.csv\"):\n",
    "    with csv_path.open(newline=\"\") as f:\n",
    "        row_count = sum(1 for _ in csv.reader(f)) - 1   # minus header\n",
    "\n",
    "    rel_parts = csv_path.relative_to(DATA_ROOT).parts\n",
    "\n",
    "    # top-level folder, e.g. 'commodities'\n",
    "    top_folder = rel_parts[0]\n",
    "\n",
    "    # frequency = second part if it looks like '1D' / '1h', else 'other'\n",
    "    freq = rel_parts[1] if len(rel_parts) > 1 and rel_parts[1].lower() in {\"1d\", \"1h\"} else \"other\"\n",
    "\n",
    "    summary[top_folder][freq] += row_count\n",
    "    grand_total += row_count\n",
    "\n",
    "print(f\"\\nGrand total rows across all CSVs: {grand_total:,}\\n\")\n",
    "\n",
    "for folder in sorted(summary):\n",
    "    print(f\"{folder}/\")\n",
    "    for freq, rows in sorted(summary[folder].items()):\n",
    "        print(f\"  └─ {freq:<5} : {rows:,}\")\n",
    "    print()\n"
   ]
  },
  {
   "cell_type": "code",
   "execution_count": null,
   "id": "6ba41a68",
   "metadata": {},
   "outputs": [],
   "source": [
    "#remove unwanted characters from CSV (\"\" and ,)\n",
    "from pathlib import Path\n",
    "\n",
    "src  = Path(\"../uk.csv\")\n",
    "dest = Path(\"../uk1.csv\")\n",
    "\n",
    "# translation table maps unwanted characters to None\n",
    "table = str.maketrans('', '', '\",')\n",
    "\n",
    "with src.open(newline='', encoding='utf-8') as fin, \\\n",
    "     dest.open('w', newline='', encoding='utf-8') as fout:\n",
    "    for line in fin:\n",
    "        fout.write(line.translate(table))\n"
   ]
  }
 ],
 "metadata": {
  "kernelspec": {
   "display_name": ".venv",
   "language": "python",
   "name": "python3"
  },
  "language_info": {
   "codemirror_mode": {
    "name": "ipython",
    "version": 3
   },
   "file_extension": ".py",
   "mimetype": "text/x-python",
   "name": "python",
   "nbconvert_exporter": "python",
   "pygments_lexer": "ipython3",
   "version": "3.10.0"
  }
 },
 "nbformat": 4,
 "nbformat_minor": 5
}
