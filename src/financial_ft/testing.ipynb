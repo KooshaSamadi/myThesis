{
 "cells": [
  {
   "cell_type": "code",
   "execution_count": null,
   "id": "5212f563",
   "metadata": {},
   "outputs": [
    {
     "name": "stdout",
     "output_type": "stream",
     "text": [
      " See https://github.com/google-research/timesfm/blob/master/README.md for updated APIs.\n",
      "Loaded PyTorch TimesFM, likely because python version is 3.10.0 (tags/v3.10.0:b494f59, Oct  4 2021, 19:00:18) [MSC v.1929 64 bit (AMD64)].\n"
     ]
    }
   ],
   "source": [
    "import numpy\n",
    "import timesfm"
   ]
  },
  {
   "cell_type": "code",
   "execution_count": null,
   "id": "044d6cae",
   "metadata": {},
   "outputs": [
    {
     "ename": "",
     "evalue": "",
     "output_type": "error",
     "traceback": [
      "\u001b[1;31mRunning cells with '.venv (Python 3.10.0)' requires the ipykernel package.\n",
      "\u001b[1;31mInstall 'ipykernel' into the Python environment. \n",
      "\u001b[1;31mCommand: '\"c:/Users/z004s7fy/Desktop/Thesis/Thesis Project/.venv/Scripts/python.exe\" -m pip install ipykernel -U --force-reinstall'"
     ]
    }
   ],
   "source": [
    "import numpy as np\n",
    "import timesfm\n",
    "\n",
    "# 1. Initialize the model with the v1.0-200M checkpoint parameters\n",
    "tfm = timesfm.TimesFm(\n",
    "    context_len=100,         # length of history you’ll feed in\n",
    "    horizon_len=10,          # how many steps ahead to forecast\n",
    "    input_patch_len=32,      # fixed for 200M model\n",
    "    output_patch_len=128,    # fixed for 200M model\n",
    "    num_layers=20,           # fixed for 200M model\n",
    "    model_dims=1280,         # fixed for 200M model\n",
    "    backend=\"cpu\"            # or \"gpu\" if you have one\n",
    ")\n",
    "tfm.load_from_checkpoint(repo_id=\"google/timesfm-1.0-200m\")  # :contentReference[oaicite:0]{index=0}\n",
    "\n",
    "# 2. Create a toy univariate series (100 points of a sine wave)\n",
    "history = np.sin(np.linspace(0, 4 * np.pi, 100))\n",
    "\n",
    "# 3. Run inference—freq=0 is “high frequency” (e.g. daily or finer) by default\n",
    "point_forecast, _ = tfm.forecast(\n",
    "    forecast_input=[history],\n",
    "    freq=[0]\n",
    ")\n",
    "\n",
    "print(\"20-step forecast:\", point_forecast[0])\n"
   ]
  }
 ],
 "metadata": {
  "kernelspec": {
   "display_name": ".venv",
   "language": "python",
   "name": "python3"
  },
  "language_info": {
   "codemirror_mode": {
    "name": "ipython",
    "version": 3
   },
   "file_extension": ".py",
   "mimetype": "text/x-python",
   "name": "python",
   "nbconvert_exporter": "python",
   "pygments_lexer": "ipython3",
   "version": "3.10.0"
  }
 },
 "nbformat": 4,
 "nbformat_minor": 5
}
