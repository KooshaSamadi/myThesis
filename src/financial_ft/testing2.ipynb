{
 "cells": [
  {
   "cell_type": "code",
   "execution_count": 7,
   "id": "c3445f20",
   "metadata": {},
   "outputs": [
    {
     "name": "stderr",
     "output_type": "stream",
     "text": [
      "100%|██████████| 497/497 [01:47<00:00,  4.61it/s]\n"
     ]
    }
   ],
   "source": [
    "# save as prep.py and run:  python prep.py\n",
    "from pathlib import Path\n",
    "import pandas as pd, numpy as np, tqdm\n",
    "\n",
    "SRC = Path(\"../../data/raw/s&p500/1D\")          # adjust if the folder moved / renamed\n",
    "DST = Path(\"../../data/data_prepared/train\")\n",
    "DST.mkdir(parents=True, exist_ok=True)\n",
    "\n",
    "for csv in tqdm.tqdm(list(SRC.glob(\"*.csv\"))):\n",
    "    df = pd.read_csv(csv, parse_dates=[\"Date\"])\n",
    "    series = (df[\"Close\"]\n",
    "              .ffill()              # forward-fill any isolated NaNs\n",
    "              .clip(lower=1e-6))    # prevent log(0)\n",
    "    out = pd.DataFrame({\n",
    "        \"Date\": df[\"Date\"],\n",
    "        \"value\": np.log(series.values, dtype=np.float32)  # <-- log-price\n",
    "    })\n",
    "    out.to_csv(DST / csv.name, index=False)\n"
   ]
  },
  {
   "cell_type": "code",
   "execution_count": null,
   "id": "7ac144d7",
   "metadata": {},
   "outputs": [],
   "source": [
    "# my_config.py  (copy from configs/fine_tuning.py and edit)\n",
    "batch_size = 128          # fits on ~12 GB\n",
    "total_epochs = 40         # enough for ~80 k updates on S&P 500 daily\n",
    "learning_rate = 5e-5      # a bit gentler on a smaller dataset\n"
   ]
  }
 ],
 "metadata": {
  "kernelspec": {
   "display_name": ".venv",
   "language": "python",
   "name": "python3"
  },
  "language_info": {
   "codemirror_mode": {
    "name": "ipython",
    "version": 3
   },
   "file_extension": ".py",
   "mimetype": "text/x-python",
   "name": "python",
   "nbconvert_exporter": "python",
   "pygments_lexer": "ipython3",
   "version": "3.10.0"
  }
 },
 "nbformat": 4,
 "nbformat_minor": 5
}
